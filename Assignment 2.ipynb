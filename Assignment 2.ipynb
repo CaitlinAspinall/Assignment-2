{
 "cells": [
  {
   "cell_type": "code",
   "execution_count": 3,
   "metadata": {},
   "outputs": [],
   "source": [
    "from fastai.vision import *\n",
    "from fastai import * \n",
    "from fastai.text import *\n",
    "from pathlib import Path \n",
    "from tqdm import tqdm\n",
    "import torchtext\n",
    "from torchtext.data import Iterator, BucketIterator\n",
    "from torchvision import transforms, utils\n",
    "import numpy as np"
   ]
  },
  {
   "cell_type": "code",
   "execution_count": 4,
   "metadata": {},
   "outputs": [
    {
     "name": "stdout",
     "output_type": "stream",
     "text": [
      "Requirement already satisfied: Keras in /Users/caitlinaspinall/anaconda3/lib/python3.6/site-packages (2.2.4)\n",
      "Requirement already satisfied: pyyaml in /Users/caitlinaspinall/anaconda3/lib/python3.6/site-packages (from Keras) (5.1)\n",
      "Requirement already satisfied: six>=1.9.0 in /Users/caitlinaspinall/anaconda3/lib/python3.6/site-packages (from Keras) (1.12.0)\n",
      "Requirement already satisfied: numpy>=1.9.1 in /Users/caitlinaspinall/anaconda3/lib/python3.6/site-packages (from Keras) (1.16.3)\n",
      "Requirement already satisfied: keras-preprocessing>=1.0.5 in /Users/caitlinaspinall/anaconda3/lib/python3.6/site-packages (from Keras) (1.1.0)\n",
      "Requirement already satisfied: keras-applications>=1.0.6 in /Users/caitlinaspinall/anaconda3/lib/python3.6/site-packages (from Keras) (1.0.8)\n",
      "Requirement already satisfied: scipy>=0.14 in /Users/caitlinaspinall/anaconda3/lib/python3.6/site-packages (from Keras) (1.2.1)\n",
      "Requirement already satisfied: h5py in /Users/caitlinaspinall/anaconda3/lib/python3.6/site-packages (from Keras) (2.9.0)\n",
      "Note: you may need to restart the kernel to use updated packages.\n"
     ]
    }
   ],
   "source": [
    "pip install Keras"
   ]
  },
  {
   "cell_type": "code",
   "execution_count": 5,
   "metadata": {},
   "outputs": [
    {
     "name": "stdout",
     "output_type": "stream",
     "text": [
      "Requirement already satisfied: tensorflow in /Users/caitlinaspinall/anaconda3/lib/python3.6/site-packages (1.13.1)\n",
      "Requirement already satisfied: numpy>=1.13.3 in /Users/caitlinaspinall/anaconda3/lib/python3.6/site-packages (from tensorflow) (1.16.3)\n",
      "Requirement already satisfied: keras-preprocessing>=1.0.5 in /Users/caitlinaspinall/anaconda3/lib/python3.6/site-packages (from tensorflow) (1.1.0)\n",
      "Requirement already satisfied: tensorflow-estimator<1.14.0rc0,>=1.13.0 in /Users/caitlinaspinall/anaconda3/lib/python3.6/site-packages (from tensorflow) (1.13.0)\n",
      "Requirement already satisfied: protobuf>=3.6.1 in /Users/caitlinaspinall/anaconda3/lib/python3.6/site-packages (from tensorflow) (3.8.0)\n",
      "Requirement already satisfied: absl-py>=0.1.6 in /Users/caitlinaspinall/anaconda3/lib/python3.6/site-packages (from tensorflow) (0.7.1)\n",
      "Requirement already satisfied: gast>=0.2.0 in /Users/caitlinaspinall/anaconda3/lib/python3.6/site-packages (from tensorflow) (0.2.2)\n",
      "Requirement already satisfied: grpcio>=1.8.6 in /Users/caitlinaspinall/anaconda3/lib/python3.6/site-packages (from tensorflow) (1.21.1)\n",
      "Requirement already satisfied: six>=1.10.0 in /Users/caitlinaspinall/anaconda3/lib/python3.6/site-packages (from tensorflow) (1.12.0)\n",
      "Requirement already satisfied: wheel>=0.26 in /Users/caitlinaspinall/anaconda3/lib/python3.6/site-packages (from tensorflow) (0.33.2)\n",
      "Requirement already satisfied: keras-applications>=1.0.6 in /Users/caitlinaspinall/anaconda3/lib/python3.6/site-packages (from tensorflow) (1.0.8)\n",
      "Requirement already satisfied: termcolor>=1.1.0 in /Users/caitlinaspinall/anaconda3/lib/python3.6/site-packages (from tensorflow) (1.1.0)\n",
      "Requirement already satisfied: tensorboard<1.14.0,>=1.13.0 in /Users/caitlinaspinall/anaconda3/lib/python3.6/site-packages (from tensorflow) (1.13.1)\n",
      "Requirement already satisfied: astor>=0.6.0 in /Users/caitlinaspinall/anaconda3/lib/python3.6/site-packages (from tensorflow) (0.8.0)\n",
      "Requirement already satisfied: mock>=2.0.0 in /Users/caitlinaspinall/anaconda3/lib/python3.6/site-packages (from tensorflow-estimator<1.14.0rc0,>=1.13.0->tensorflow) (3.0.5)\n",
      "Requirement already satisfied: setuptools in /Users/caitlinaspinall/anaconda3/lib/python3.6/site-packages (from protobuf>=3.6.1->tensorflow) (41.0.1)\n",
      "Requirement already satisfied: h5py in /Users/caitlinaspinall/anaconda3/lib/python3.6/site-packages (from keras-applications>=1.0.6->tensorflow) (2.9.0)\n",
      "Requirement already satisfied: markdown>=2.6.8 in /Users/caitlinaspinall/anaconda3/lib/python3.6/site-packages (from tensorboard<1.14.0,>=1.13.0->tensorflow) (3.1.1)\n",
      "Requirement already satisfied: werkzeug>=0.11.15 in /Users/caitlinaspinall/anaconda3/lib/python3.6/site-packages (from tensorboard<1.14.0,>=1.13.0->tensorflow) (0.15.2)\n",
      "Note: you may need to restart the kernel to use updated packages.\n"
     ]
    }
   ],
   "source": [
    "pip install tensorflow"
   ]
  },
  {
   "cell_type": "code",
   "execution_count": 6,
   "metadata": {},
   "outputs": [
    {
     "name": "stdout",
     "output_type": "stream",
     "text": [
      "Requirement already satisfied: os-win in /Users/caitlinaspinall/anaconda3/lib/python3.6/site-packages (4.3.0)\n",
      "Requirement already satisfied: oslo.log>=3.36.0 in /Users/caitlinaspinall/anaconda3/lib/python3.6/site-packages (from os-win) (3.44.0)\n",
      "Requirement already satisfied: oslo.config>=5.2.0 in /Users/caitlinaspinall/anaconda3/lib/python3.6/site-packages (from os-win) (6.10.0)\n",
      "Requirement already satisfied: Babel!=2.4.0,>=2.3.4 in /Users/caitlinaspinall/anaconda3/lib/python3.6/site-packages (from os-win) (2.6.0)\n",
      "Requirement already satisfied: pbr!=2.1.0,>=2.0.0 in /Users/caitlinaspinall/anaconda3/lib/python3.6/site-packages (from os-win) (5.3.0)\n",
      "Requirement already satisfied: eventlet!=0.18.3,!=0.20.1,>=0.18.2 in /Users/caitlinaspinall/anaconda3/lib/python3.6/site-packages (from os-win) (0.25.0)\n",
      "Requirement already satisfied: oslo.i18n>=3.15.3 in /Users/caitlinaspinall/anaconda3/lib/python3.6/site-packages (from os-win) (3.23.1)\n",
      "Requirement already satisfied: oslo.utils>=3.33.0 in /Users/caitlinaspinall/anaconda3/lib/python3.6/site-packages (from os-win) (3.41.0)\n",
      "Requirement already satisfied: oslo.concurrency>=3.26.0 in /Users/caitlinaspinall/anaconda3/lib/python3.6/site-packages (from os-win) (3.29.1)\n",
      "Requirement already satisfied: oslo.context>=2.20.0 in /Users/caitlinaspinall/anaconda3/lib/python3.6/site-packages (from oslo.log>=3.36.0->os-win) (2.22.1)\n",
      "Requirement already satisfied: oslo.serialization>=2.25.0 in /Users/caitlinaspinall/anaconda3/lib/python3.6/site-packages (from oslo.log>=3.36.0->os-win) (2.29.1)\n",
      "Requirement already satisfied: python-dateutil>=2.7.0 in /Users/caitlinaspinall/anaconda3/lib/python3.6/site-packages (from oslo.log>=3.36.0->os-win) (2.8.0)\n",
      "Requirement already satisfied: debtcollector>=1.19.0 in /Users/caitlinaspinall/anaconda3/lib/python3.6/site-packages (from oslo.log>=3.36.0->os-win) (1.21.0)\n",
      "Requirement already satisfied: six>=1.11.0 in /Users/caitlinaspinall/anaconda3/lib/python3.6/site-packages (from oslo.log>=3.36.0->os-win) (1.12.0)\n",
      "Requirement already satisfied: PyYAML>=3.12 in /Users/caitlinaspinall/anaconda3/lib/python3.6/site-packages (from oslo.config>=5.2.0->os-win) (5.1)\n",
      "Requirement already satisfied: rfc3986>=1.2.0 in /Users/caitlinaspinall/anaconda3/lib/python3.6/site-packages (from oslo.config>=5.2.0->os-win) (1.3.2)\n",
      "Requirement already satisfied: requests>=2.18.0 in /Users/caitlinaspinall/anaconda3/lib/python3.6/site-packages (from oslo.config>=5.2.0->os-win) (2.21.0)\n",
      "Requirement already satisfied: netaddr>=0.7.18 in /Users/caitlinaspinall/anaconda3/lib/python3.6/site-packages (from oslo.config>=5.2.0->os-win) (0.7.19)\n",
      "Requirement already satisfied: stevedore>=1.20.0 in /Users/caitlinaspinall/anaconda3/lib/python3.6/site-packages (from oslo.config>=5.2.0->os-win) (1.30.1)\n",
      "Requirement already satisfied: pytz>=0a in /Users/caitlinaspinall/anaconda3/lib/python3.6/site-packages (from Babel!=2.4.0,>=2.3.4->os-win) (2019.1)\n",
      "Requirement already satisfied: greenlet>=0.3 in /Users/caitlinaspinall/anaconda3/lib/python3.6/site-packages (from eventlet!=0.18.3,!=0.20.1,>=0.18.2->os-win) (0.4.15)\n",
      "Requirement already satisfied: dnspython>=1.15.0 in /Users/caitlinaspinall/anaconda3/lib/python3.6/site-packages (from eventlet!=0.18.3,!=0.20.1,>=0.18.2->os-win) (1.16.0)\n",
      "Requirement already satisfied: monotonic>=1.4 in /Users/caitlinaspinall/anaconda3/lib/python3.6/site-packages (from eventlet!=0.18.3,!=0.20.1,>=0.18.2->os-win) (1.5)\n",
      "Requirement already satisfied: netifaces>=0.10.4 in /Users/caitlinaspinall/anaconda3/lib/python3.6/site-packages (from oslo.utils>=3.33.0->os-win) (0.10.9)\n",
      "Requirement already satisfied: pyparsing>=2.1.0 in /Users/caitlinaspinall/anaconda3/lib/python3.6/site-packages (from oslo.utils>=3.33.0->os-win) (2.4.0)\n",
      "Requirement already satisfied: iso8601>=0.1.11 in /Users/caitlinaspinall/anaconda3/lib/python3.6/site-packages (from oslo.utils>=3.33.0->os-win) (0.1.12)\n",
      "Requirement already satisfied: fasteners>=0.7.0 in /Users/caitlinaspinall/anaconda3/lib/python3.6/site-packages (from oslo.concurrency>=3.26.0->os-win) (0.15)\n",
      "Requirement already satisfied: msgpack>=0.5.2 in /Users/caitlinaspinall/anaconda3/lib/python3.6/site-packages (from oslo.serialization>=2.25.0->oslo.log>=3.36.0->os-win) (0.6.1)\n",
      "Requirement already satisfied: wrapt>=1.7.0 in /Users/caitlinaspinall/anaconda3/lib/python3.6/site-packages (from debtcollector>=1.19.0->oslo.log>=3.36.0->os-win) (1.11.1)\n",
      "Requirement already satisfied: urllib3<1.25,>=1.21.1 in /Users/caitlinaspinall/anaconda3/lib/python3.6/site-packages (from requests>=2.18.0->oslo.config>=5.2.0->os-win) (1.24.2)\n",
      "Requirement already satisfied: certifi>=2017.4.17 in /Users/caitlinaspinall/anaconda3/lib/python3.6/site-packages (from requests>=2.18.0->oslo.config>=5.2.0->os-win) (2019.3.9)\n",
      "Requirement already satisfied: idna<2.9,>=2.5 in /Users/caitlinaspinall/anaconda3/lib/python3.6/site-packages (from requests>=2.18.0->oslo.config>=5.2.0->os-win) (2.8)\n",
      "Requirement already satisfied: chardet<3.1.0,>=3.0.2 in /Users/caitlinaspinall/anaconda3/lib/python3.6/site-packages (from requests>=2.18.0->oslo.config>=5.2.0->os-win) (3.0.4)\n",
      "Note: you may need to restart the kernel to use updated packages.\n"
     ]
    }
   ],
   "source": [
    "pip install os-win"
   ]
  },
  {
   "cell_type": "code",
   "execution_count": 7,
   "metadata": {},
   "outputs": [],
   "source": [
    "from sklearn.preprocessing import LabelEncoder\n",
    "from sklearn.preprocessing import OneHotEncoder\n",
    "import os\n",
    "import matplotlib.pyplot as plt\n",
    "import matplotlib.image as mplimg\n",
    "from matplotlib.pyplot import imshow\n",
    "from PIL import Image"
   ]
  },
  {
   "cell_type": "code",
   "execution_count": 8,
   "metadata": {},
   "outputs": [
    {
     "name": "stdout",
     "output_type": "stream",
     "text": [
      "/Users/caitlinaspinall/.fastai/data\n"
     ]
    }
   ],
   "source": [
    "path = Config.data_path()\n",
    "path.mkdir(parents=True, exist_ok=True)\n",
    "print(path)"
   ]
  },
  {
   "cell_type": "code",
   "execution_count": 9,
   "metadata": {},
   "outputs": [
    {
     "data": {
      "text/html": [
       "<div>\n",
       "<style scoped>\n",
       "    .dataframe tbody tr th:only-of-type {\n",
       "        vertical-align: middle;\n",
       "    }\n",
       "\n",
       "    .dataframe tbody tr th {\n",
       "        vertical-align: top;\n",
       "    }\n",
       "\n",
       "    .dataframe thead th {\n",
       "        text-align: right;\n",
       "    }\n",
       "</style>\n",
       "<table border=\"1\" class=\"dataframe\">\n",
       "  <thead>\n",
       "    <tr style=\"text-align: right;\">\n",
       "      <th></th>\n",
       "      <th>Image</th>\n",
       "      <th>Id</th>\n",
       "    </tr>\n",
       "  </thead>\n",
       "  <tbody>\n",
       "    <tr>\n",
       "      <th>0</th>\n",
       "      <td>0000e88ab.jpg</td>\n",
       "      <td>w_f48451c</td>\n",
       "    </tr>\n",
       "    <tr>\n",
       "      <th>1</th>\n",
       "      <td>0001f9222.jpg</td>\n",
       "      <td>w_c3d896a</td>\n",
       "    </tr>\n",
       "    <tr>\n",
       "      <th>2</th>\n",
       "      <td>00029d126.jpg</td>\n",
       "      <td>w_20df2c5</td>\n",
       "    </tr>\n",
       "    <tr>\n",
       "      <th>3</th>\n",
       "      <td>00050a15a.jpg</td>\n",
       "      <td>new_whale</td>\n",
       "    </tr>\n",
       "    <tr>\n",
       "      <th>4</th>\n",
       "      <td>0005c1ef8.jpg</td>\n",
       "      <td>new_whale</td>\n",
       "    </tr>\n",
       "  </tbody>\n",
       "</table>\n",
       "</div>"
      ],
      "text/plain": [
       "           Image         Id\n",
       "0  0000e88ab.jpg  w_f48451c\n",
       "1  0001f9222.jpg  w_c3d896a\n",
       "2  00029d126.jpg  w_20df2c5\n",
       "3  00050a15a.jpg  new_whale\n",
       "4  0005c1ef8.jpg  new_whale"
      ]
     },
     "execution_count": 9,
     "metadata": {},
     "output_type": "execute_result"
    }
   ],
   "source": [
    "train_df = pd.read_csv(path/\"train_whale.csv\")\n",
    "train_df.head()"
   ]
  },
  {
   "cell_type": "code",
   "execution_count": 10,
   "metadata": {},
   "outputs": [
    {
     "data": {
      "text/plain": [
       "new_whale    9664\n",
       "w_23a388d      73\n",
       "w_9b5109b      65\n",
       "w_9c506f6      62\n",
       "w_0369a5c      61\n",
       "Name: Id, dtype: int64"
      ]
     },
     "execution_count": 10,
     "metadata": {},
     "output_type": "execute_result"
    }
   ],
   "source": [
    "train_df.Id.value_counts().head()"
   ]
  },
  {
   "cell_type": "code",
   "execution_count": 11,
   "metadata": {},
   "outputs": [
    {
     "name": "stdout",
     "output_type": "stream",
     "text": [
      "There are 2073 classes with 1 samples in train data.\n",
      "There are 1285 classes with 2 samples in train data.\n",
      "There are 568 classes with 3 samples in train data.\n"
     ]
    }
   ],
   "source": [
    "for i in range(1, 4):\n",
    "    print(f'There are {train_df.Id.value_counts()[train_df.Id.value_counts().values==i].shape[0]} classes with {i} samples in train data.')"
   ]
  },
  {
   "cell_type": "code",
   "execution_count": 12,
   "metadata": {},
   "outputs": [
    {
     "data": {
      "image/png": "[encoded data removed]",
      "text/plain": [
       "<Figure size 432x288 with 1 Axes>"
      ]
     },
     "metadata": {
      "needs_background": "light"
     },
     "output_type": "display_data"
    }
   ],
   "source": [
    "plt.title('Distribution of classes excluding new_whale');\n",
    "train_df.Id.value_counts()[1:].plot(kind='hist');"
   ]
  },
  {
   "cell_type": "code",
   "execution_count": 13,
   "metadata": {},
   "outputs": [],
   "source": [
    "train_df.shape, train_df.Id.nunique()\n",
    "Num_classes = train_df.Id.nunique()"
   ]
  },
  {
   "cell_type": "code",
   "execution_count": 14,
   "metadata": {},
   "outputs": [],
   "source": [
    "# Basic transformation including resizing, normalizing and converting to tensor \n",
    "\n",
    "train_transforms = transforms.Compose([\n",
    "                                      transforms.Resize((100, 100)),\n",
    "                                      transforms.ToTensor(),\n",
    "                                      transforms.Normalize(mean=[0.485, 0.456, 0.406],\n",
    "                                                             std=[0.229, 0.224, 0.225])\n",
    "    ])\n",
    "# data_transforms_test = transforms.Compose([\n",
    "#                                            transforms.Resize((100, 100)),\n",
    "#                                            transforms.ToTensor(),\n",
    "#                                            transforms.Normalize(mean=[0.485, 0.456, 0.406],\n",
    "#                                                                  std=[0.229, 0.224, 0.225])\n",
    "# ])\n"
   ]
  },
  {
   "cell_type": "code",
   "execution_count": 15,
   "metadata": {},
   "outputs": [],
   "source": [
    "# Encoding labels using onehot encoder\n",
    "\n",
    "def prepare_labels(y):\n",
    "    # From here: https://www.kaggle.com/pestipeti/keras-cnn-starter\n",
    "    values = np.array(y)\n",
    "    label_encoder = LabelEncoder()\n",
    "    integer_encoded = label_encoder.fit_transform(values)\n",
    "\n",
    "    onehot_encoder = OneHotEncoder(sparse=False)\n",
    "    integer_encoded = integer_encoded.reshape(len(integer_encoded), 1)\n",
    "    onehot_encoded = onehot_encoder.fit_transform(integer_encoded)\n",
    "\n",
    "    y = onehot_encoded\n",
    "    return y, label_encoder"
   ]
  },
  {
   "cell_type": "code",
   "execution_count": 16,
   "metadata": {},
   "outputs": [
    {
     "name": "stderr",
     "output_type": "stream",
     "text": [
      "/Users/caitlinaspinall/anaconda3/lib/python3.6/site-packages/sklearn/preprocessing/_encoders.py:415: FutureWarning: The handling of integer data will change in version 0.22. Currently, the categories are determined based on the range [0, max(values)], while in the future they will be determined based on the unique values.\n",
      "If you want the future behaviour and silence this warning, you can specify \"categories='auto'\".\n",
      "In case you used a LabelEncoder before this OneHotEncoder to convert the categories to integers, then you can now use the OneHotEncoder directly.\n",
      "  warnings.warn(msg, FutureWarning)\n"
     ]
    }
   ],
   "source": [
    "y, lab_encoder = prepare_labels(train_df['Id'])"
   ]
  },
  {
   "cell_type": "code",
   "execution_count": 19,
   "metadata": {},
   "outputs": [
    {
     "name": "stdout",
     "output_type": "stream",
     "text": [
      "[[0. 0. 0. 0. ... 0. 0. 0. 0.]\n",
      " [0. 0. 0. 0. ... 0. 0. 0. 0.]\n",
      " [0. 0. 0. 0. ... 0. 0. 0. 0.]\n",
      " [1. 0. 0. 0. ... 0. 0. 0. 0.]\n",
      " ...\n",
      " [0. 0. 0. 0. ... 0. 0. 0. 0.]\n",
      " [0. 0. 0. 0. ... 0. 0. 0. 0.]\n",
      " [0. 0. 0. 0. ... 0. 0. 0. 0.]\n",
      " [1. 0. 0. 0. ... 0. 0. 0. 0.]]\n"
     ]
    }
   ],
   "source": [
    "print(y)"
   ]
  },
  {
   "cell_type": "code",
   "execution_count": null,
   "metadata": {},
   "outputs": [],
   "source": []
  }
 ],
 "metadata": {
  "kernelspec": {
   "display_name": "Python 3",
   "language": "python",
   "name": "python3"
  },
  "language_info": {
   "codemirror_mode": {
    "name": "ipython",
    "version": 3
   },
   "file_extension": ".py",
   "mimetype": "text/x-python",
   "name": "python",
   "nbconvert_exporter": "python",
   "pygments_lexer": "ipython3",
   "version": "3.6.8"
  }
 },
 "nbformat": 4,
 "nbformat_minor": 2
}
